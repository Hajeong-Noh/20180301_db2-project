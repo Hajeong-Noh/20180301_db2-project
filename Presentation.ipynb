{
 "cells": [
  {
   "cell_type": "markdown",
   "metadata": {},
   "source": [
    "# DB2 Project - \"Cities in Italy\"\n",
    "In this project, I analyzed the cities in Italy utilizing the data extracted from OpenStreetMap. Instead of data analysis, I focused\n",
    "more on learning how to query the data I want from MongoDB using numerous MongoDB operators as the main goal of \"Database 2\" class corresponds to it."
   ]
  },
  {
   "cell_type": "markdown",
   "metadata": {},
   "source": [
    "# Explore the data\n",
    "- `admin_level` : administrative level of the city within a government hierarchy. A lower level means higher in the hierarchy.\n",
    "- `capital` : this property is used to tag the capital of a country or administrative divisions within countries.\n",
    "    - 0 : Capital city of a country\n",
    "    - 4 : Capital city of an administrative region\n",
    "    - 6 : Capital city of a province\n",
    "- `ele` : elevation (height above sea level) of a point, in metres.\n",
    "- `rank` : classification of cities\n",
    "    - 0 : global city, high international importance\n",
    "    - 10 : urban agglomeration\n",
    "    - 20 : city with it's own metropolitan area\n",
    "    - 30 : relatively small city\n",
    "- `heritage` : if the value is 1, the city is registered as a heritage by World Heritage Centre."
   ]
  },
  {
   "cell_type": "markdown",
   "metadata": {},
   "source": [
    "## 0. Connection to MongoDB\n",
    "Let's connect to MongoDB using `pymongo` module in python library"
   ]
  },
  {
   "cell_type": "code",
   "execution_count": 12,
   "metadata": {},
   "outputs": [],
   "source": [
    "# import pretty printer\n",
    "import pprint\n",
    "\n",
    "# connection to MongoDB\n",
    "from pymongo import MongoClient\n",
    "client = MongoClient('localhost:27017')\n",
    "db = client.project"
   ]
  },
  {
   "cell_type": "markdown",
   "metadata": {},
   "source": [
    "## 1. Field Selection\n",
    "Collection Method `find()` selects documents in a collection."
   ]
  },
  {
   "cell_type": "code",
   "execution_count": 14,
   "metadata": {},
   "outputs": [
    {
     "name": "stdout",
     "output_type": "stream",
     "text": [
      "{'_id': ObjectId('5a9982dfa7b7301cf8ad5bde'),\n",
      " 'geometry': {'coordinates': [9.0863001, 45.8106992], 'type': 'Point'},\n",
      " 'id': 'node/4891496721',\n",
      " 'properties': {'@id': 'node/4891496721',\n",
      "                'admin_level': 8,\n",
      "                'capital': 6,\n",
      "                'gfoss_id': '1550',\n",
      "                'is_in': 'Como, Lombardia, Italy',\n",
      "                'is_in:continent': 'Europe',\n",
      "                'name': 'Como',\n",
      "                'name:el': 'Κόμο',\n",
      "                'name:fr': 'Côme',\n",
      "                'name:he': 'קומו',\n",
      "                'name:it': 'Como',\n",
      "                'name:lmo': 'Comm',\n",
      "                'name:lt': 'Komas',\n",
      "                'name:ru': 'Комо',\n",
      "                'name:uk': 'Комо',\n",
      "                'name:zh': '科莫',\n",
      "                'place': 'city',\n",
      "                'population': 83422,\n",
      "                'postal_code': 22100,\n",
      "                'ref:ISTAT': '013075',\n",
      "                'source': 'geodati.gfoss.it',\n",
      "                'wikidata': 'Q1308',\n",
      "                'wikipedia': 'it:Como'},\n",
      " 'type': 'Feature'}\n"
     ]
    }
   ],
   "source": [
    "# 1. Let's check if there is a city 'Como'!\n",
    "como_city = db.city.find({\"properties.name\": \"Como\"})\n",
    "\n",
    "for city in como_city:\n",
    "    pprint.pprint(city)"
   ]
  },
  {
   "cell_type": "markdown",
   "metadata": {},
   "source": [
    "## 2. Multiple Field Queries\n",
    "Multiple fields can be queried by different fields seperated with comma."
   ]
  },
  {
   "cell_type": "code",
   "execution_count": 15,
   "metadata": {},
   "outputs": [
    {
     "name": "stdout",
     "output_type": "stream",
     "text": [
      "{'_id': ObjectId('5a9982dfa7b7301cf8ad5b81'),\n",
      " 'geometry': {'coordinates': [10.2204897, 45.5399392], 'type': 'Point'},\n",
      " 'id': 'node/62505590',\n",
      " 'properties': {'@id': 'node/62505590',\n",
      "                'admin_level': 8,\n",
      "                'capital': 6,\n",
      "                'gfoss_id': '2199',\n",
      "                'is_in': 'Brescia, Lombardia, Italy',\n",
      "                'is_in:continent': 'Europe',\n",
      "                'is_in:country': 'Italy',\n",
      "                'is_in:country_code': 'IT',\n",
      "                'name': 'Brescia',\n",
      "                'name:el': 'Μπρέσια',\n",
      "                'name:it': 'Brescia',\n",
      "                'name:ru': 'Бреша',\n",
      "                'name:uk': 'Брешія',\n",
      "                'name:zh': '布雷西亚',\n",
      "                'old_name:de': 'Welsch-Brixen',\n",
      "                'place': 'city',\n",
      "                'population': 187567,\n",
      "                'ref:ISTAT': '017029',\n",
      "                'source': 'geodati.gfoss.it',\n",
      "                'wikidata': 'Q6221',\n",
      "                'wikipedia': 'it:Brescia'},\n",
      " 'type': 'Feature'}\n",
      "{'_id': ObjectId('5a9982dfa7b7301cf8ad5b82'),\n",
      " 'geometry': {'coordinates': [10.0251103, 45.1346168], 'type': 'Point'},\n",
      " 'id': 'node/62505595',\n",
      " 'properties': {'@id': 'node/62505595',\n",
      "                'admin_level': 8,\n",
      "                'capital': 6,\n",
      "                'gfoss_id': '2602',\n",
      "                'is_in': 'Cremona, Lombardia, Italy',\n",
      "                'is_in:continent': 'Europe',\n",
      "                'name': 'Cremona',\n",
      "                'name:el': 'Κρεμόνα',\n",
      "                'name:fr': 'Crémone',\n",
      "                'name:he': 'קרמונה',\n",
      "                'name:it': 'Cremona',\n",
      "                'name:ru': 'Кремона',\n",
      "                'name:zh': '克雷莫納',\n",
      "                'place': 'city',\n",
      "                'population': 70887,\n",
      "                'postal_code': 26100,\n",
      "                'ref:ISTAT': '019036',\n",
      "                'source': 'geodati.gfoss.it',\n",
      "                'wikidata': 'Q6231',\n",
      "                'wikipedia': 'it:Cremona'},\n",
      " 'type': 'Feature'}\n",
      "{'_id': ObjectId('5a9982dfa7b7301cf8ad5b83'),\n",
      " 'geometry': {'coordinates': [9.389605, 45.8553764], 'type': 'Point'},\n",
      " 'id': 'node/62505597',\n",
      " 'properties': {'@id': 'node/62505597',\n",
      "                'admin_level': 8,\n",
      "                'capital': 6,\n",
      "                'gfoss_id': '7811',\n",
      "                'is_in': 'Lecco, Lombardia, Italy',\n",
      "                'is_in:continent': 'Europe',\n",
      "                'name': 'Lecco',\n",
      "                'name:el': 'Λέκκο',\n",
      "                'name:fr': 'Lecco',\n",
      "                'name:it': 'Lecco',\n",
      "                'name:ru': 'Лекко',\n",
      "                'name:zh': '萊科',\n",
      "                'place': 'city',\n",
      "                'population': 45501,\n",
      "                'ref:ISTAT': '097042',\n",
      "                'source': 'geodati.gfoss.it',\n",
      "                'wikidata': 'Q6237',\n",
      "                'wikipedia': 'it:Lecco'},\n",
      " 'type': 'Feature'}\n",
      "{'_id': ObjectId('5a9982dfa7b7301cf8ad5b84'),\n",
      " 'geometry': {'coordinates': [9.503263, 45.3138959], 'type': 'Point'},\n",
      " 'id': 'node/62505605',\n",
      " 'properties': {'@id': 'node/62505605',\n",
      "                'admin_level': 8,\n",
      "                'capital': 6,\n",
      "                'gfoss_id': '7890',\n",
      "                'is_in': 'Lodi, Lombardia, Italy',\n",
      "                'is_in:continent': 'Europe',\n",
      "                'name': 'Lodi',\n",
      "                'name:el': 'Λόντι',\n",
      "                'name:fr': 'Lodi',\n",
      "                'name:it': 'Lodi',\n",
      "                'name:ru': 'Лоди',\n",
      "                'name:zh': '洛迪',\n",
      "                'place': 'city',\n",
      "                'population': 40805,\n",
      "                'ref:ISTAT': '098031',\n",
      "                'source': 'geodati.gfoss.it',\n",
      "                'wikidata': 'Q6244',\n",
      "                'wikipedia': 'it:Lodi'},\n",
      " 'type': 'Feature'}\n",
      "{'_id': ObjectId('5a9982dfa7b7301cf8ad5b85'),\n",
      " 'geometry': {'coordinates': [10.7917191, 45.1566683], 'type': 'Point'},\n",
      " 'id': 'node/62505610',\n",
      " 'properties': {'@id': 'node/62505610',\n",
      "                'admin_level': 8,\n",
      "                'capital': 6,\n",
      "                'gfoss_id': '2711',\n",
      "                'heritage': 1,\n",
      "                'heritage:operator': 'whc',\n",
      "                'is_in': 'Mantova, Lombardia, Italy',\n",
      "                'is_in:continent': 'Europe',\n",
      "                'name': 'Mantova',\n",
      "                'name:ar': 'مانتوفا',\n",
      "                'name:ca': 'Màntua',\n",
      "                'name:de': 'Mantua',\n",
      "                'name:egl': 'Màntua',\n",
      "                'name:el': 'Μάντοβα',\n",
      "                'name:en': 'Mantua',\n",
      "                'name:es': 'Mantua',\n",
      "                'name:fr': 'Mantoue',\n",
      "                'name:he': 'מנטובה',\n",
      "                'name:it': 'Mantova',\n",
      "                'name:la': 'Mantua',\n",
      "                'name:nl': 'Mantua',\n",
      "                'name:pl': 'Mantua',\n",
      "                'name:ru': 'Мантуя',\n",
      "                'name:vec': 'Màntoa',\n",
      "                'name:zh': '曼托瓦',\n",
      "                'old_name:lat': 'Mantua',\n",
      "                'place': 'city',\n",
      "                'population': 47790,\n",
      "                'ref:ISTAT': '020030',\n",
      "                'source': 'geodati.gfoss.it',\n",
      "                'wikidata': 'Q6247',\n",
      "                'wikipedia': 'it:Mantova'},\n",
      " 'type': 'Feature'}\n",
      "{'_id': ObjectId('5a9982dfa7b7301cf8ad5b86'),\n",
      " 'geometry': {'coordinates': [9.1546375, 45.1860043], 'type': 'Point'},\n",
      " 'id': 'node/62505612',\n",
      " 'properties': {'@id': 'node/62505612',\n",
      "                'admin_level': 8,\n",
      "                'capital': 6,\n",
      "                'gfoss_id': '2486',\n",
      "                'name': 'Pavia',\n",
      "                'name:ast': 'Pavía',\n",
      "                'name:egl': 'Pavia',\n",
      "                'name:el': 'Παβία',\n",
      "                'name:es': 'Pavía',\n",
      "                'name:fr': 'Pavie',\n",
      "                'name:he': 'פאביה',\n",
      "                'name:it': 'Pavia',\n",
      "                'name:pl': 'Pawia',\n",
      "                'name:ru': 'Павия',\n",
      "                'name:zh': '帕維亞',\n",
      "                'old_name:lat': 'Ticinum',\n",
      "                'place': 'city',\n",
      "                'population': 71214,\n",
      "                'source': 'geodati.gfoss.it',\n",
      "                'wikidata': 'Q6259',\n",
      "                'wikipedia': 'it:Pavia'},\n",
      " 'type': 'Feature'}\n",
      "{'_id': ObjectId('5a9982dfa7b7301cf8ad5b87'),\n",
      " 'geometry': {'coordinates': [9.8767107, 46.1709447], 'type': 'Point'},\n",
      " 'id': 'node/62505616',\n",
      " 'properties': {'@id': 'node/62505616',\n",
      "                'admin_level': 8,\n",
      "                'alt_name:lmo': 'Sundri',\n",
      "                'alt_name:rm': 'Sunder',\n",
      "                'capital': 6,\n",
      "                'gfoss_id': '1720',\n",
      "                'is_in': 'Sondrio, Lombardia, Italy',\n",
      "                'is_in:continent': 'Europe',\n",
      "                'name': 'Sondrio',\n",
      "                'name:el': 'Σόντριο',\n",
      "                'name:fr': 'Sondrio',\n",
      "                'name:it': 'Sondrio',\n",
      "                'name:la': 'Sundrium',\n",
      "                'name:lmo': 'Sondri',\n",
      "                'name:rm': 'Sonder',\n",
      "                'name:ru': 'Сондрио',\n",
      "                'name:zh': '桑治奧',\n",
      "                'old_alt_name:de': 'Sonders',\n",
      "                'old_name:de': 'Sünders',\n",
      "                'place': 'city',\n",
      "                'population': 21642,\n",
      "                'ref:ISTAT': '014061',\n",
      "                'source': 'geodati.gfoss.it',\n",
      "                'wikidata': 'Q6274',\n",
      "                'wikipedia': 'it:Sondrio'},\n",
      " 'type': 'Feature'}\n",
      "{'_id': ObjectId('5a9982dfa7b7301cf8ad5b88'),\n",
      " 'geometry': {'coordinates': [8.8263438, 45.8175359], 'type': 'Point'},\n",
      " 'id': 'node/62505628',\n",
      " 'properties': {'@id': 'node/62505628',\n",
      "                'admin_level': 8,\n",
      "                'capital': 6,\n",
      "                'gfoss_id': '1489',\n",
      "                'is_in': 'Varese, Lombardia, Italy',\n",
      "                'is_in:continent': 'Europe',\n",
      "                'name': 'Varese',\n",
      "                'name:el': 'Βαρέζε',\n",
      "                'name:fr': 'Varèse',\n",
      "                'name:it': 'Varese',\n",
      "                'name:lt': 'Varezė',\n",
      "                'name:ru': 'Варезе',\n",
      "                'name:uk': 'Варезе',\n",
      "                'name:zh': '瓦雷澤',\n",
      "                'place': 'city',\n",
      "                'population': 80629,\n",
      "                'ref:ISTAT': '012133',\n",
      "                'source': 'http://demo.istat.it/bilmens2016gen/index.html',\n",
      "                'wikidata': 'Q6285',\n",
      "                'wikipedia': 'it:Varese'},\n",
      " 'type': 'Feature'}\n",
      "{'_id': ObjectId('5a9982dfa7b7301cf8ad5b89'),\n",
      " 'geometry': {'coordinates': [9.2735257, 45.5834418], 'type': 'Point'},\n",
      " 'id': 'node/62515124',\n",
      " 'properties': {'@id': 'node/62515124',\n",
      "                'admin_level': 8,\n",
      "                'capital': 6,\n",
      "                'gfoss_id': '1846',\n",
      "                'name': 'Monza',\n",
      "                'name:bg': 'Монца',\n",
      "                'name:de': 'Monza',\n",
      "                'name:el': 'Μόντσα',\n",
      "                'name:en': 'Monza',\n",
      "                'name:es': 'Monza',\n",
      "                'name:fr': 'Monza',\n",
      "                'name:pt': 'Monza',\n",
      "                'name:ru': 'Монца',\n",
      "                'name:uk': 'Монца',\n",
      "                'name:zh': '蒙扎',\n",
      "                'place': 'city',\n",
      "                'population': 120204,\n",
      "                'ref:ISTAT': '108033',\n",
      "                'source': 'geodati.gfoss.it',\n",
      "                'wikidata': 'Q6252',\n",
      "                'wikipedia': 'it:Monza'},\n",
      " 'type': 'Feature'}\n",
      "{'_id': ObjectId('5a9982dfa7b7301cf8ad5b9e'),\n",
      " 'geometry': {'coordinates': [9.8282255, 44.107033], 'type': 'Point'},\n",
      " 'id': 'node/66586332',\n",
      " 'properties': {'@id': 'node/66586332',\n",
      "                'admin_level': 8,\n",
      "                'capital': 6,\n",
      "                'gfoss_id': '1339',\n",
      "                'name': 'La Spezia',\n",
      "                'name:el': 'Λα Σπέτσια',\n",
      "                'name:fr': 'La Spezia',\n",
      "                'name:lij': 'Spèza',\n",
      "                'name:ru': 'Специя',\n",
      "                'name:uk': 'Спеція',\n",
      "                'name:zh': '拉斯佩齐亚',\n",
      "                'place': 'city',\n",
      "                'population': 93959,\n",
      "                'ref:ISTAT': '011015',\n",
      "                'source': 'geodati.gfoss.it',\n",
      "                'wikidata': 'Q8611',\n",
      "                'wikipedia': 'it:La Spezia'},\n",
      " 'type': 'Feature'}\n",
      "{'_id': ObjectId('5a9982dfa7b7301cf8ad5bc0'),\n",
      " 'geometry': {'coordinates': [10.6304958, 44.6978446], 'type': 'Point'},\n",
      " 'id': 'node/69300019',\n",
      " 'properties': {'@id': 'node/69300019',\n",
      "                'admin_level': 8,\n",
      "                'alt_name': 'Reggio Emilia',\n",
      "                'capital': 6,\n",
      "                'name': \"Reggio nell'Emilia\",\n",
      "                'name:ca': \"Reggio de l'Emília\",\n",
      "                'name:de': 'Reggio Emilia',\n",
      "                'name:egl': 'Rèz',\n",
      "                'name:el': 'Ρέτζο Εμίλια',\n",
      "                'name:es': 'Reggio Emilia',\n",
      "                'name:fr': \"Reggio d'Émilie\",\n",
      "                'name:pt': 'Reggio Emilia',\n",
      "                'name:ru': 'Реджо-Эмилия',\n",
      "                'name:zh': '雷焦艾米利亚',\n",
      "                'old_name:la': 'Regium Lepidi',\n",
      "                'place': 'city',\n",
      "                'population': 171345,\n",
      "                'ref:LOCODE': 'ITRNE',\n",
      "                'source': 'geodati.gfoss.it',\n",
      "                'wikidata': 'Q13360',\n",
      "                'wikipedia': \"it:Reggio nell'Emilia\"},\n",
      " 'type': 'Feature'}\n",
      "{'_id': ObjectId('5a9982dfa7b7301cf8ad5bd7'),\n",
      " 'geometry': {'coordinates': [14.2139199, 42.4646033], 'type': 'Point'},\n",
      " 'id': 'node/1778115456',\n",
      " 'properties': {'@id': 'node/1778115456',\n",
      "                'admin_level': 8,\n",
      "                'capital': 6,\n",
      "                'gfoss_id': '5890',\n",
      "                'name': 'Pescara',\n",
      "                'name:el': 'Πεσκάρα',\n",
      "                'name:en': 'Pescara',\n",
      "                'name:ru': 'Пескара',\n",
      "                'name:uk': 'Пескара',\n",
      "                'name:zh': '佩斯卡拉',\n",
      "                'place': 'city',\n",
      "                'population': 116286,\n",
      "                'source': 'geodati.gfoss.it',\n",
      "                'wikidata': 'Q2704',\n",
      "                'wikipedia': 'en:Pescara'},\n",
      " 'type': 'Feature'}\n",
      "{'_id': ObjectId('5a9982dfa7b7301cf8ad5bdb'),\n",
      " 'geometry': {'coordinates': [9.669839, 45.6945115], 'type': 'Point'},\n",
      " 'id': 'node/2289017953',\n",
      " 'properties': {'@id': 'node/2289017953',\n",
      "                'admin_level': 8,\n",
      "                'capital': 6,\n",
      "                'email': 'protocollo@comune.bg.it',\n",
      "                'fax': '+39 035 399031',\n",
      "                'gfoss_id': '1950',\n",
      "                'is_in': 'Bergamo, Lombardia, Italy',\n",
      "                'is_in:continent': 'Europe',\n",
      "                'is_in:country': 'Italy',\n",
      "                'is_in:country_code': 'IT',\n",
      "                'name': 'Bergamo',\n",
      "                'name:ca': 'Bèrgam',\n",
      "                'name:el': 'Μπέργκαμο',\n",
      "                'name:es': 'Bérgamo',\n",
      "                'name:fr': 'Bergame',\n",
      "                'name:hu': 'Bergamo',\n",
      "                'name:it': 'Bergamo',\n",
      "                'name:la': 'Bergomum',\n",
      "                'name:pt': 'Bérgamo',\n",
      "                'name:ru': 'Бергамо',\n",
      "                'name:uk': 'Бергамо',\n",
      "                'name:zh': '贝尔加莫',\n",
      "                'old_name:de': 'Welsch-Bergen',\n",
      "                'phone': '+39 035 399111',\n",
      "                'place': 'city',\n",
      "                'population': 113143,\n",
      "                'ref': 'BG',\n",
      "                'ref:ISTAT': '016024',\n",
      "                'source': 'geodati.gfoss.it',\n",
      "                'website': 'http://www.comune.bergamo.it/',\n",
      "                'wikidata': 'Q628',\n",
      "                'wikipedia': 'it:Bergamo'},\n",
      " 'type': 'Feature'}\n",
      "{'_id': ObjectId('5a9982dfa7b7301cf8ad5bde'),\n",
      " 'geometry': {'coordinates': [9.0863001, 45.8106992], 'type': 'Point'},\n",
      " 'id': 'node/4891496721',\n",
      " 'properties': {'@id': 'node/4891496721',\n",
      "                'admin_level': 8,\n",
      "                'capital': 6,\n",
      "                'gfoss_id': '1550',\n",
      "                'is_in': 'Como, Lombardia, Italy',\n",
      "                'is_in:continent': 'Europe',\n",
      "                'name': 'Como',\n",
      "                'name:el': 'Κόμο',\n",
      "                'name:fr': 'Côme',\n",
      "                'name:he': 'קומו',\n",
      "                'name:it': 'Como',\n",
      "                'name:lmo': 'Comm',\n",
      "                'name:lt': 'Komas',\n",
      "                'name:ru': 'Комо',\n",
      "                'name:uk': 'Комо',\n",
      "                'name:zh': '科莫',\n",
      "                'place': 'city',\n",
      "                'population': 83422,\n",
      "                'postal_code': 22100,\n",
      "                'ref:ISTAT': '013075',\n",
      "                'source': 'geodati.gfoss.it',\n",
      "                'wikidata': 'Q1308',\n",
      "                'wikipedia': 'it:Como'},\n",
      " 'type': 'Feature'}\n"
     ]
    }
   ],
   "source": [
    "# 2. Are there cities that have same admin_level and capital with Como?\n",
    "cities = db.city.find({\"properties.admin_level\": 8, \"properties.capital\": 6})\n",
    "\n",
    "for city in cities:\n",
    "    pprint.pprint(city)"
   ]
  },
  {
   "cell_type": "markdown",
   "metadata": {},
   "source": [
    "## 3. Projection Queries\n",
    "`Projection` parameter determines which fields are returned in the matching documents."
   ]
  },
  {
   "cell_type": "code",
   "execution_count": 16,
   "metadata": {},
   "outputs": [
    {
     "name": "stdout",
     "output_type": "stream",
     "text": [
      "{'properties': {'name': 'Brescia'}}\n",
      "{'properties': {'name': 'Cremona'}}\n",
      "{'properties': {'name': 'Lecco'}}\n",
      "{'properties': {'name': 'Lodi'}}\n",
      "{'properties': {'name': 'Mantova'}}\n",
      "{'properties': {'name': 'Pavia'}}\n",
      "{'properties': {'name': 'Sondrio'}}\n",
      "{'properties': {'name': 'Varese'}}\n",
      "{'properties': {'name': 'Monza'}}\n",
      "{'properties': {'name': 'La Spezia'}}\n",
      "{'properties': {'name': \"Reggio nell'Emilia\"}}\n",
      "{'properties': {'name': 'Pescara'}}\n",
      "{'properties': {'name': 'Bergamo'}}\n",
      "{'properties': {'name': 'Como'}}\n"
     ]
    }
   ],
   "source": [
    "# 3. Can we make the result looks simpler?\n",
    "query = {\"properties.admin_level\": 8, \"properties.capital\": 6}\n",
    "projection = {\"_id\": 0, \"properties.name\": 1}\n",
    "cities = db.city.find(query, projection)\n",
    "\n",
    "for city in cities:\n",
    "    pprint.pprint(city)"
   ]
  },
  {
   "cell_type": "markdown",
   "metadata": {},
   "source": [
    "## 4. Count Method\n",
    "Collection method `count()` returns the count of documents that would match `find()` query for the collection or view."
   ]
  },
  {
   "cell_type": "code",
   "execution_count": 13,
   "metadata": {},
   "outputs": [
    {
     "name": "stdout",
     "output_type": "stream",
     "text": [
      "The amount of total Italian cities is 108\n"
     ]
    }
   ],
   "source": [
    "# 4. How many cities are in the database?\n",
    "num_cities = db.city.find().count()\n",
    "\n",
    "print(\"The amount of total Italian cities is \" + str(num_cities))"
   ]
  },
  {
   "cell_type": "markdown",
   "metadata": {},
   "source": [
    "## 5. Range Queries\n",
    "Combine comparison operators to specify ranges.\n",
    "- `$eq`\tmatches values that are equal to a specified value.\n",
    "- `$gt`\tmatches values that are greater than a specified value.\n",
    "- `$gte`\tmatches values that are greater than or equal to a specified value.\n",
    "- `$in`\tmatches any of the values specified in an array.\n",
    "- `$lt`\tmatches values that are less than a specified value.\n",
    "- `$lte`\tmatches values that are less than or equal to a specified value.\n",
    "- `$ne`\tmatches all values that are not equal to a specified value.\n",
    "- `$nin`\tMatches none of the values specified in an array."
   ]
  },
  {
   "cell_type": "code",
   "execution_count": 17,
   "metadata": {},
   "outputs": [
    {
     "name": "stdout",
     "output_type": "stream",
     "text": [
      "{'properties': {'name': 'Milano', 'postal_code': 20100}}\n",
      "{'properties': {'name': 'Cremona', 'postal_code': 26100}}\n",
      "{'properties': {'name': 'Como', 'postal_code': 22100}}\n"
     ]
    }
   ],
   "source": [
    "# 5-1. Which cities has the postal code starts with 2?\n",
    "query = {\"properties.postal_code\":{\"$gte\": 20000, \"$lt\": 30000}}\n",
    "projection = {\"_id\": 0, \"properties.name\": 1, \"properties.postal_code\": 1}\n",
    "cities = db.city.find(query, projection)\n",
    "\n",
    "for city in cities:\n",
    "    pprint.pprint(city)"
   ]
  },
  {
   "cell_type": "code",
   "execution_count": 18,
   "metadata": {},
   "outputs": [
    {
     "name": "stdout",
     "output_type": "stream",
     "text": [
      "{'properties': {'name': 'Arezzo'}}\n",
      "{'properties': {'name': 'Alessandria'}}\n",
      "{'properties': {'name': 'Asti'}}\n",
      "{'properties': {'name': 'Agrigento'}}\n",
      "{'properties': {'name': 'Andria'}}\n",
      "{'properties': {'name': 'Avellino'}}\n",
      "{'properties': {'name': 'Ancona'}}\n",
      "{'properties': {'name': 'Aosta'}}\n",
      "{'properties': {'name': 'Aristanis/Oristano'}}\n"
     ]
    }
   ],
   "source": [
    "# 5-2. Which cities start with A?\n",
    "query = {\"properties.name\":{\"$gte\": \"A\", \"$lt\": \"B\"}}\n",
    "projection = {\"_id\": 0, \"properties.name\": 1}\n",
    "cities = db.city.find(query, projection)\n",
    "\n",
    "for city in cities:\n",
    "    pprint.pprint(city)"
   ]
  },
  {
   "cell_type": "markdown",
   "metadata": {},
   "source": [
    "## 6. Exists Operator\n",
    "`$exists` matches the documents that contain the field, including documents where the field value is null."
   ]
  },
  {
   "cell_type": "code",
   "execution_count": 19,
   "metadata": {},
   "outputs": [
    {
     "name": "stdout",
     "output_type": "stream",
     "text": [
      "{'properties': {'name': 'Firenze'}}\n",
      "{'properties': {'name': 'Siena'}}\n",
      "{'properties': {'name': 'Mantova'}}\n",
      "{'properties': {'name': 'Venezia'}}\n",
      "{'properties': {'name': 'Verona'}}\n",
      "{'properties': {'name': 'Vicenza'}}\n",
      "{'properties': {'name': 'Catania'}}\n",
      "{'properties': {'name': 'Ragusa'}}\n",
      "{'properties': {'name': 'Ferrara'}}\n",
      "{'properties': {'name': 'Napoli'}}\n",
      "{'properties': {'name': 'Siracusa'}}\n"
     ]
    }
   ],
   "source": [
    "# 6. Which cities are registered by Unesco Heritage Centre\n",
    "query = {\"properties.heritage\":{\"$exists\": True}}\n",
    "projection = {\"_id\": 0, \"properties.name\": 1}\n",
    "cities = db.city.find(query, projection)\n",
    "\n",
    "for city in cities:\n",
    "    pprint.pprint(city)"
   ]
  },
  {
   "cell_type": "markdown",
   "metadata": {},
   "source": [
    "## 7. Aggregation with Group, Sort Operators\n",
    "Collection method `aggregate()` calculates aggregate values for the data in a collection or a view.\n",
    "\n",
    "![Aggregation Pipeline](https://docs.mongodb.com/manual/_images/aggregation-pipeline.bakedsvg.svg)\n",
    "\n",
    "`$group` aggregation operator groups documents by some specified expression and outputs to the next stage a document for each distinct grouping. The output documents contain an `_id` field which contains the distinct group by key.\n",
    "\n",
    "`$order` aggregation operator sorts all input documents and returns them to the pipeline in sorted order."
   ]
  },
  {
   "cell_type": "code",
   "execution_count": 20,
   "metadata": {},
   "outputs": [
    {
     "name": "stdout",
     "output_type": "stream",
     "text": [
      "{'_id': 0, 'average_population': 2864731.0, 'count': 1}\n",
      "{'_id': 4, 'average_population': 361368.5789473684, 'count': 19}\n",
      "{'_id': 6, 'average_population': 99328.825, 'count': 80}\n",
      "{'_id': None, 'average_population': 71113.4, 'count': 8}\n"
     ]
    }
   ],
   "source": [
    "# 7. What is the relation between capital and population?\n",
    "cities = db.city.aggregate([\n",
    "    {\"$group\": {\"_id\": \"$properties.capital\",\n",
    "                \"count\": {\"$sum\": 1},\n",
    "                \"average_population\": {\"$avg\": \"$properties.population\"}}},\n",
    "    {\"$sort\": {\"average_population\": -1}}])\n",
    "\n",
    "for city in cities:\n",
    "    pprint.pprint(city)"
   ]
  },
  {
   "cell_type": "markdown",
   "metadata": {},
   "source": [
    "## 8. Match Operator\n",
    "`$match` aggregation operator filters the documents to pass only the documents that match the specified condition(s) to the next pipeline stage."
   ]
  },
  {
   "cell_type": "code",
   "execution_count": 21,
   "metadata": {
    "scrolled": true
   },
   "outputs": [
    {
     "name": "stdout",
     "output_type": "stream",
     "text": [
      "{'_id': 21, 'average_population': 2864731.0, 'count': 1}\n",
      "{'_id': 120, 'average_population': 1350487.0, 'count': 1}\n",
      "{'_id': 17, 'average_population': 972212.0, 'count': 1}\n",
      "{'_id': 239, 'average_population': 902000.0, 'count': 1}\n",
      "{'_id': 20, 'average_population': 586655.0, 'count': 1}\n",
      "{'_id': 54, 'average_population': 386663.0, 'count': 1}\n",
      "{'_id': 50, 'average_population': 382808.0, 'count': 1}\n",
      "{'_id': 1, 'average_population': 263352.0, 'count': 1}\n",
      "{'_id': 12, 'average_population': 210401.0, 'count': 1}\n",
      "{'_id': 23, 'average_population': 154478.0, 'count': 1}\n",
      "{'_id': 76, 'average_population': 151991.0, 'count': 1}\n",
      "{'_id': 9, 'average_population': 133155.0, 'count': 1}\n",
      "{'_id': 493, 'average_population': 120137.0, 'count': 1}\n",
      "{'_id': 194, 'average_population': 117317.0, 'count': 1}\n",
      "{'_id': 262, 'average_population': 105713.0, 'count': 1}\n",
      "{'_id': 130, 'average_population': 97050.0, 'count': 1}\n",
      "{'_id': 3, 'average_population': 86852.0, 'count': 2}\n",
      "{'_id': 28, 'average_population': 83411.0, 'count': 1}\n",
      "{'_id': 534, 'average_population': 55939.0, 'count': 1}\n",
      "{'_id': 348, 'average_population': 54847.0, 'count': 1}\n",
      "{'_id': 701, 'average_population': 49431.0, 'count': 1}\n",
      "{'_id': 583, 'average_population': 34631.0, 'count': 1}\n"
     ]
    }
   ],
   "source": [
    "# 8. What is the relation between elevation and population?\n",
    "cities = db.city.aggregate([\n",
    "    {\"$match\": {\"properties.ele\": {\"$exists\": 1}}},\n",
    "    {\"$group\": {\"_id\": \"$properties.ele\",\n",
    "                \"count\": {\"$sum\":1},\n",
    "                \"average_population\": {\"$avg\": \"$properties.population\"}}},\n",
    "    {\"$sort\": {\"average_population\": -1}}])\n",
    "\n",
    "for city in cities:\n",
    "    pprint.pprint(city)"
   ]
  },
  {
   "cell_type": "markdown",
   "metadata": {},
   "source": [
    "![graph1](picture\\graph1.png)"
   ]
  },
  {
   "cell_type": "markdown",
   "metadata": {},
   "source": [
    "## 9. Project Operator\n",
    "\n",
    "`$project` operator takes a document that can specify the inclusion of fields, the suppression of the _id field, the addition of new fields, and the resetting of the values of existing fields."
   ]
  },
  {
   "cell_type": "code",
   "execution_count": 22,
   "metadata": {},
   "outputs": [
    {
     "name": "stdout",
     "output_type": "stream",
     "text": [
      "{'_id': 0, 'ratio': 0.0}\n",
      "{'_id': 4, 'ratio': 0.15789473684210525}\n",
      "{'_id': 6, 'ratio': 0.1}\n"
     ]
    }
   ],
   "source": [
    "# 9. What is the proportion of heritage cities out of each capital category?\n",
    "cities = db.city.aggregate([\n",
    "    {\"$match\": {\"properties.capital\": {\"$exists\": 1}}},\n",
    "    {\"$group\": {\"_id\": \"$properties.capital\",\n",
    "                \"count\": {\"$sum\":1},\n",
    "                \"num_heritage\": {\"$sum\": \"$properties.heritage\"}}},\n",
    "    {\"$project\": {\"ratio\": {\"$divide\": [\"$num_heritage\", \"$count\"]}}},\n",
    "    {\"$sort\": {\"_id\": 1}}])\n",
    "\n",
    "for city in cities:\n",
    "    pprint.pprint(city)"
   ]
  },
  {
   "cell_type": "markdown",
   "metadata": {},
   "source": [
    "## 10. Group Accumulation Operators\n",
    "`$addToSet` returns an array of all unique values that results from applying an expression to each document in a group of documents that share the same group by key.\n",
    "\n",
    "`$unwind` deconstructs an array field from the input documents to output a document for each element."
   ]
  },
  {
   "cell_type": "code",
   "execution_count": 23,
   "metadata": {},
   "outputs": [
    {
     "name": "stdout",
     "output_type": "stream",
     "text": [
      "{'_id': 0, 'rank_set': [0]}\n",
      "{'_id': 4, 'rank_set': [1, 10, 20]}\n",
      "{'_id': 6, 'rank_set': [20, 30]}\n"
     ]
    }
   ],
   "source": [
    "# 10-1. How many different ranks does each capital categories have?\n",
    "cities = db.city.aggregate([\n",
    "    {\"$match\": {\"properties.capital\": {\"$exists\": 1}}},\n",
    "    {\"$group\": {\"_id\": \"$properties.capital\",\n",
    "                \"rank_set\": {\n",
    "                    \"$addToSet\": \"$properties.rank\"\n",
    "                }}},\n",
    "    {\"$sort\": {\"_id\": 1}}])\n",
    "    \n",
    "for city in cities:\n",
    "    pprint.pprint(city)"
   ]
  },
  {
   "cell_type": "code",
   "execution_count": 24,
   "metadata": {},
   "outputs": [
    {
     "name": "stdout",
     "output_type": "stream",
     "text": [
      "{'_id': 0, 'rank_set': 0}\n",
      "{'_id': 4, 'rank_set': 1}\n",
      "{'_id': 4, 'rank_set': 10}\n",
      "{'_id': 4, 'rank_set': 20}\n",
      "{'_id': 6, 'rank_set': 20}\n",
      "{'_id': 6, 'rank_set': 30}\n"
     ]
    }
   ],
   "source": [
    " cities = db.city.aggregate([\n",
    "    {\"$match\": {\"properties.capital\": {\"$exists\": 1}}},\n",
    "    {\"$group\": {\"_id\": \"$properties.capital\",\n",
    "                \"rank_set\": {\n",
    "                    \"$addToSet\": \"$properties.rank\"\n",
    "                }}},\n",
    "    {\"$unwind\": \"$rank_set\"},\n",
    "    {\"$sort\": {\"_id\": 1}}])\n",
    "    \n",
    "for city in cities:\n",
    "    pprint.pprint(city)"
   ]
  },
  {
   "cell_type": "code",
   "execution_count": 25,
   "metadata": {},
   "outputs": [
    {
     "name": "stdout",
     "output_type": "stream",
     "text": [
      "{'_id': 0, 'rank_count': 1}\n",
      "{'_id': 4, 'rank_count': 3}\n",
      "{'_id': 6, 'rank_count': 2}\n"
     ]
    }
   ],
   "source": [
    "cities = db.city.aggregate([\n",
    "    {\"$match\": {\"properties.capital\": {\"$exists\": 1}}},\n",
    "    {\"$group\": {\"_id\": \"$properties.capital\",\n",
    "                \"rank_set\": {\n",
    "                    \"$addToSet\": \"$properties.rank\"\n",
    "                }}},\n",
    "    {\"$unwind\": \"$rank_set\"},\n",
    "    {\"$group\": {\"_id\": \"$_id\", \"rank_count\": {\"$sum\": 1}}},\n",
    "    {\"$sort\": {\"_id\": 1}}])\n",
    "    \n",
    "for city in cities:\n",
    "    pprint.pprint(city)"
   ]
  },
  {
   "cell_type": "code",
   "execution_count": null,
   "metadata": {},
   "outputs": [],
   "source": []
  }
 ],
 "metadata": {
  "kernelspec": {
   "display_name": "Python [conda env:Anaconda3]",
   "language": "python",
   "name": "conda-env-Anaconda3-py"
  },
  "language_info": {
   "codemirror_mode": {
    "name": "ipython",
    "version": 3
   },
   "file_extension": ".py",
   "mimetype": "text/x-python",
   "name": "python",
   "nbconvert_exporter": "python",
   "pygments_lexer": "ipython3",
   "version": "3.6.4"
  }
 },
 "nbformat": 4,
 "nbformat_minor": 2
}
